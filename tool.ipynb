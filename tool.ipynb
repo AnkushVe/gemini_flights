{
 "cells": [
  {
   "cell_type": "code",
   "execution_count": 4,
   "metadata": {},
   "outputs": [],
   "source": [
    "import vertexai\n",
    "from vertexai.preview import generative_models\n",
    "from vertexai.preview.generative_models import GenerativeModel, Tool, Part, Content, ChatSession"
   ]
  },
  {
   "cell_type": "code",
   "execution_count": 5,
   "metadata": {},
   "outputs": [],
   "source": [
    "project = \"gemini-flights-413013\"\n",
    "vertexai.init(project = project)"
   ]
  },
  {
   "cell_type": "code",
   "execution_count": 10,
   "metadata": {},
   "outputs": [],
   "source": [
    "get_search_flights = generative_models.FunctionDeclaration(\n",
    "    name=\"get_search_flights\",\n",
    "    description=\"Tool for searching a flight with various options\",\n",
    "    parameters={\n",
    "        \"type\": \"object\",\n",
    "        \"properties\": {\n",
    "            \"origin\": {\n",
    "                \"type\": \"string\",\n",
    "                \"description\": \"The airport of departure for the flight given in airport code such as LAX, SFO, BOS, etc.\"\n",
    "            },\n",
    "            \"destination\": {\n",
    "                \"type\": \"string\",\n",
    "                \"description\": \"The airport of destination for the flight given in airport code such as LAX, SFO, BOS, etc.\"\n",
    "            },\n",
    "            \"departure_date\": {\n",
    "                \"type\": \"string\",\n",
    "                \"format\": \"date\",\n",
    "                \"description\": \"The date of departure for the flight in YYYY-MM-DD format\"\n",
    "            },\n",
    "            \"passengers\": {\n",
    "                \"type\": \"integer\",\n",
    "                \"description\": \"Number of passengers for the flight\"\n",
    "            },\n",
    "            \"class\": {\n",
    "                \"type\": \"string\",\n",
    "                \"enum\": [\"economy\", \"business\", \"first\"],\n",
    "                \"description\": \"The class of the flight (economy, business, first)\"\n",
    "            },\n",
    "            \"flight_time_preferences\": {\n",
    "                \"type\": \"string\",\n",
    "                \"enum\": [\"morning\", \"afternoon\", \"evening\"],\n",
    "                \"description\": \"Preferred time of the day for the flight\"\n",
    "            },\n",
    "            \"seat_preferences\": {\n",
    "                \"type\": \"string\",\n",
    "                \"enum\": [\"window\", \"aisle\", \"middle\"],\n",
    "                \"description\": \"Preferred seat type for the flight\"\n",
    "            },\n",
    "            \"budget_range\": {\n",
    "                \"type\": \"object\",\n",
    "                \"properties\": {\n",
    "                    \"min\": {\"type\": \"number\", \"description\": \"Minimum budget for the flight\"},\n",
    "                    \"max\": {\"type\": \"number\", \"description\": \"Maximum budget for the flight\"}\n",
    "                },\n",
    "                \"description\": \"Budget range for the flight\"\n",
    "            },\n",
    "        },\n",
    "        \"required\": [\n",
    "            \"origin\",\n",
    "            \"destination\",\n",
    "            \"departure_date\",\n",
    "            \"passengers\",\n",
    "            \"travel_class\",\n",
    "            \"budget_range\"\n",
    "        ]\n",
    "    },\n",
    ")\n",
    "search_tool = generative_models.Tool(\n",
    "    function_declarations=[get_search_flights],\n",
    ")\n"
   ]
  },
  {
   "cell_type": "code",
   "execution_count": 11,
   "metadata": {},
   "outputs": [],
   "source": [
    "config = generative_models.GenerationConfig(temperature=0.4)\n",
    "# Load model with config\n",
    "model = GenerativeModel(\n",
    "    \"gemini-pro\",\n",
    "    tools = [search_tool],\n",
    "    generation_config = config\n",
    ")\n"
   ]
  },
  {
   "cell_type": "code",
   "execution_count": null,
   "metadata": {},
   "outputs": [],
   "source": []
  }
 ],
 "metadata": {
  "kernelspec": {
   "display_name": "env",
   "language": "python",
   "name": "python3"
  },
  "language_info": {
   "codemirror_mode": {
    "name": "ipython",
    "version": 3
   },
   "file_extension": ".py",
   "mimetype": "text/x-python",
   "name": "python",
   "nbconvert_exporter": "python",
   "pygments_lexer": "ipython3",
   "version": "3.11.4"
  }
 },
 "nbformat": 4,
 "nbformat_minor": 2
}
